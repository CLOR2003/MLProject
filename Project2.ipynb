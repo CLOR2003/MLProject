{
  "nbformat": 4,
  "nbformat_minor": 0,
  "metadata": {
    "colab": {
      "provenance": [],
      "include_colab_link": true
    },
    "kernelspec": {
      "name": "python3",
      "display_name": "Python 3"
    },
    "language_info": {
      "name": "python"
    }
  },
  "cells": [
    {
      "cell_type": "markdown",
      "metadata": {
        "id": "view-in-github",
        "colab_type": "text"
      },
      "source": [
        "<a href=\"https://colab.research.google.com/github/CLOR2003/MLProject/blob/Luis/Project2.ipynb\" target=\"_parent\"><img src=\"https://colab.research.google.com/assets/colab-badge.svg\" alt=\"Open In Colab\"/></a>"
      ]
    },
    {
      "cell_type": "markdown",
      "source": [
        "### Group: 2\n",
        "### Names: Chakong Lor, Zach Sundary, Luis Aguilar\n",
        "### Date: 10/21/2024\n",
        "# Project 2: German Credit Risk\n",
        "\n"
      ],
      "metadata": {
        "id": "yxguFsVnWfLR"
      }
    },
    {
      "cell_type": "code",
      "source": [],
      "metadata": {
        "id": "8-eHkFnc2qav"
      },
      "execution_count": null,
      "outputs": []
    }
  ]
}